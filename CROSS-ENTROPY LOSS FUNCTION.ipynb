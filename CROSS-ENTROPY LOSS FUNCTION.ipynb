{
 "cells": [
  {
   "cell_type": "markdown",
   "id": "46f65dd5",
   "metadata": {},
   "source": [
    "# CROSS-ENTROPY LOSS\n",
    "Consists of two parts namely: SOFTMAX FUNCTION and LOG LIKELYHOOD.\n",
    "We first take the softmax function and then log likelyhood function to form it"
   ]
  },
  {
   "cell_type": "markdown",
   "id": "a15e01b5",
   "metadata": {},
   "source": [
    "## THE SOFTMAX FUNCTION\n",
    "\n",
    "Softmax is an activation function similar to sigmoid such that it ensures that all activations are all between 0 and 1 and they all sum to one"
   ]
  },
  {
   "cell_type": "code",
   "execution_count": 2,
   "id": "14fd8f49",
   "metadata": {},
   "outputs": [],
   "source": [
    "from fastai.vision.all import *"
   ]
  },
  {
   "cell_type": "code",
   "execution_count": 5,
   "id": "041e2678",
   "metadata": {},
   "outputs": [
    {
     "data": {
      "text/plain": [
       "tensor([[ 2.3771, -2.8988],\n",
       "        [-2.6314,  0.1466],\n",
       "        [ 1.1035,  0.5041],\n",
       "        [-3.1179, -2.0637],\n",
       "        [ 3.7481, -1.0225],\n",
       "        [-2.2668,  1.5217]])"
      ]
     },
     "execution_count": 5,
     "metadata": {},
     "output_type": "execute_result"
    }
   ],
   "source": [
    "'''\n",
    "We can Get started using a binary problem before we dive deeper into problems with more categories\n",
    "\n",
    "Lets assume we are having six images having two categories in which to classify them. We will\n",
    "use random numbers with a standard deviation of 2 (We multiply the randn by 2) \n",
    "\n",
    "Below are pairs of activations that indicate the relative confidence of the inputs being a 3 vs\n",
    "being a 7. The activation values don't really matter weather they are high or low, what really \n",
    "matters is which of the two is higher and by how much'''\n",
    "\n",
    "activations = torch.randn((6,2))*2\n",
    "activations"
   ]
  },
  {
   "cell_type": "code",
   "execution_count": 6,
   "id": "2114e22b",
   "metadata": {},
   "outputs": [
    {
     "data": {
      "text/plain": [
       "tensor([[0.9151, 0.0522],\n",
       "        [0.0671, 0.5366],\n",
       "        [0.7509, 0.6234],\n",
       "        [0.0424, 0.1127],\n",
       "        [0.9770, 0.2646],\n",
       "        [0.0939, 0.8208]])"
      ]
     },
     "execution_count": 6,
     "metadata": {},
     "output_type": "execute_result"
    }
   ],
   "source": [
    "'''We cannot get the sigmoid of the pairs since they don't add up to 1 within those specific rows\n",
    "'''\n",
    "sig_activations = torch.sigmoid(activations)\n",
    "sig_activations"
   ]
  },
  {
   "cell_type": "code",
   "execution_count": 12,
   "id": "ad745c51",
   "metadata": {},
   "outputs": [
    {
     "data": {
      "text/plain": [
       "tensor([0.9949, 0.0585, 0.6455, 0.2584, 0.9916, 0.0221])"
      ]
     },
     "execution_count": 12,
     "metadata": {},
     "output_type": "execute_result"
    }
   ],
   "source": [
    "'''To use sigmoid within the pair, we take the difference between their confidence value(activations)\n",
    "- Difference between confidence that it belongs to 3s, column 1 and belonging to 7s, column 2 \n",
    "and apply sigmoid on the result\n",
    "\n",
    "The results in the column below are activations representing the confidence that the inputs are \n",
    "categorized as 3s\n",
    "Therefore, confidence that they belong to 7s is calculated by subtracting the below values from one\n",
    "\n",
    "The above only returns the activation of one category'''\n",
    "\n",
    "(activations[:,0]-activations[:,1]).sigmoid()\n"
   ]
  },
  {
   "cell_type": "code",
   "execution_count": 14,
   "id": "0e89d006",
   "metadata": {},
   "outputs": [
    {
     "data": {
      "text/plain": [
       "tensor([[0.9949, 0.0051],\n",
       "        [0.0585, 0.9415],\n",
       "        [0.6455, 0.3545],\n",
       "        [0.2584, 0.7416],\n",
       "        [0.9916, 0.0084],\n",
       "        [0.0221, 0.9779]])"
      ]
     },
     "execution_count": 14,
     "metadata": {},
     "output_type": "execute_result"
    }
   ],
   "source": [
    "'''Now we need to get a function that does the above but for more than two categories. This is \n",
    "where softmax comes in!\n",
    "\n",
    "Using softmax on a binary problem which results in the activations of both the categories unlike\n",
    "sigmoid which returns activation of only one category'''\n",
    "\n",
    "#Checking that softmax returns activations on 3s in the first column as above and 1- 3s activations \n",
    "#in the second column\n",
    "\n",
    "sm_activations = torch.softmax(activations, dim=1)\n",
    "sm_activations\n"
   ]
  },
  {
   "cell_type": "code",
   "execution_count": 15,
   "id": "2f11c435",
   "metadata": {},
   "outputs": [
    {
     "data": {
      "text/plain": [
       "'Softmax is therefore a multi-category equivalent of sigmoid such that it can be used anytime\\nwe have more than two categories and the probabilty of all the categories must add up to one'"
      ]
     },
     "execution_count": 15,
     "metadata": {},
     "output_type": "execute_result"
    }
   ],
   "source": [
    "'''Softmax is therefore a multi-category equivalent of sigmoid such that it can be used anytime\n",
    "we have more than two categories and the probabilty of all the categories must add up to one'''\n"
   ]
  },
  {
   "cell_type": "code",
   "execution_count": 17,
   "id": "484c42e4",
   "metadata": {},
   "outputs": [],
   "source": [
    "#Softmax function definition\n",
    "'''\n",
    "In the softmax function, taking the exponent ensures that all the numbers are positive\n",
    "Dividing by the sum ensures that we are going to have a bunch of numbers that add up to one'''\n",
    "\n",
    "def softmax(x):\n",
    "    return exp(x) / exp(x).sum(dim=1, keepdim=True)"
   ]
  },
  {
   "cell_type": "markdown",
   "id": "b2af0e2d",
   "metadata": {},
   "source": [
    "\n",
    "\n",
    "\n",
    "\n",
    "## LOG LIKELYHOOD\n"
   ]
  },
  {
   "cell_type": "code",
   "execution_count": 18,
   "id": "03fe5f2b",
   "metadata": {},
   "outputs": [],
   "source": [
    "'''When we treat a binary problem as a general classification problem, we get two columns equivalent\n",
    "to input and 1-input similar to the mnist_loss function as shown below'''\n",
    "\n",
    "def mnist_loss(inputs, targets):\n",
    " inputs = inputs.sigmoid()\n",
    " return torch.where(targets==1, 1-inputs, inputs).mean()\n"
   ]
  },
  {
   "cell_type": "code",
   "execution_count": 19,
   "id": "a5256a67",
   "metadata": {},
   "outputs": [],
   "source": [
    "'''Therefore all we need to do is select from the appropriate column to get the appropriate loss\n",
    "value depending on the target'''\n",
    "\n",
    "#Randomly assigning target output from which the loss can be calculated\n",
    "\n",
    "target = tensor([0,1,0,1,1,0])\n"
   ]
  },
  {
   "cell_type": "code",
   "execution_count": 20,
   "id": "de7958a8",
   "metadata": {},
   "outputs": [
    {
     "data": {
      "text/plain": [
       "tensor([[0.9949, 0.0051],\n",
       "        [0.0585, 0.9415],\n",
       "        [0.6455, 0.3545],\n",
       "        [0.2584, 0.7416],\n",
       "        [0.9916, 0.0084],\n",
       "        [0.0221, 0.9779]])"
      ]
     },
     "execution_count": 20,
     "metadata": {},
     "output_type": "execute_result"
    }
   ],
   "source": [
    "#Softmax activations\n",
    "sm_activations"
   ]
  },
  {
   "cell_type": "code",
   "execution_count": 23,
   "id": "3eb0b047",
   "metadata": {},
   "outputs": [
    {
     "data": {
      "text/plain": [
       "tensor([0.9949, 0.9415, 0.6455, 0.7416, 0.0084, 0.0221])"
      ]
     },
     "execution_count": 23,
     "metadata": {},
     "output_type": "execute_result"
    }
   ],
   "source": [
    "'''Using items of 'target' we can use that to select the appropriate column of the activations\n",
    "'sm_activations' using tensor indexing as shown below '''\n",
    "\n",
    "idx = range(6)\n",
    "sm_activations[idx, target]"
   ]
  },
  {
   "cell_type": "code",
   "execution_count": 25,
   "id": "5e5c6e72",
   "metadata": {},
   "outputs": [
    {
     "data": {
      "text/plain": [
       "tensor([-0.9949, -0.9415, -0.6455, -0.7416, -0.0084, -0.0221])"
      ]
     },
     "execution_count": 25,
     "metadata": {},
     "output_type": "execute_result"
    }
   ],
   "source": [
    "'''Pytorch has a function that does the same thing as the 'sm_activations[idx, target]' called\n",
    "nll_loss - with nll standing for negative log likelyhood. It however takes a negative since when\n",
    "log is performed afterwards it results in negative numbers\n",
    "\n",
    "The 'target' allows access of values in columns that correspond to the target i.e 0 - First column,\n",
    "1 - second column\n",
    "\n",
    "Look at the figure in the cell below\n",
    "'''\n",
    "\n",
    "-sm_activations[idx, target]"
   ]
  },
  {
   "attachments": {
    "cross-entropy.PNG": {
     "image/png": "[encoded data removed]"
    }
   },
   "cell_type": "markdown",
   "id": "b1aa0dea",
   "metadata": {},
   "source": [
    "Just an Example of how choice of the column is done\n",
    "\n",
    "![cross-entropy.PNG](attachment:cross-entropy.PNG)\n"
   ]
  },
  {
   "cell_type": "code",
   "execution_count": 27,
   "id": "626054d4",
   "metadata": {
    "scrolled": true
   },
   "outputs": [
    {
     "data": {
      "text/plain": [
       "tensor([-0.9949, -0.9415, -0.6455, -0.7416, -0.0084, -0.0221])"
      ]
     },
     "execution_count": 27,
     "metadata": {},
     "output_type": "execute_result"
    }
   ],
   "source": [
    "'''Despite the name, this function doesn't take the log yet, It just works like \n",
    "\"-sm_activations[idx, target]\"\n",
    "'''\n",
    "F.nll_loss(sm_activations, target, reduction='none')\n"
   ]
  },
  {
   "cell_type": "markdown",
   "id": "d83b51b8",
   "metadata": {},
   "source": [
    "## Taking the log"
   ]
  },
  {
   "cell_type": "code",
   "execution_count": null,
   "id": "ed3f5d41",
   "metadata": {},
   "outputs": [],
   "source": [
    "'''By taking the log, we transform our numbers between 0 and 1 to be between -infinity to infinity.\n",
    "This helps with distinctly separating predictions that appear to be too close together while they\n",
    "are in the probabilty state.\n",
    "\n",
    "Ex. Two predictions in probability i.e 0.77 and 0.777 are too close together and the model might\n",
    "not care about that tiny difference. However 0.777 is 10 times more confident than 0.77 hence \n",
    "the need to elaborately showcase that diffence to make the function a little better\n",
    "\n",
    "nll loss doesn't really perform the log at all.It assumes you already did that! \n",
    "\n",
    "Pytorch's log_softmax combines log and softmax in an accurate and fast way. nll is designed to be \n",
    "used after log_softmax\n",
    "\n",
    "In pytorch the above are available as nn.CrossEntropyLoss which does log_softmax first then\n",
    "nll loss afterwards'''\n"
   ]
  },
  {
   "cell_type": "code",
   "execution_count": 33,
   "id": "ab443312",
   "metadata": {},
   "outputs": [
    {
     "data": {
      "text/plain": [
       "tensor([0.0051, 0.0603, 0.4377, 0.2990, 4.7790, 3.8108])"
      ]
     },
     "execution_count": 33,
     "metadata": {},
     "output_type": "execute_result"
    }
   ],
   "source": [
    "loss_func = nn.CrossEntropyLoss(reduction=\"none\")\n",
    "loss_func(activations, target)\n",
    "\n",
    "#By default, it takes the mean of all the loss items. You can use reduction = \"None\" to disable it"
   ]
  },
  {
   "cell_type": "code",
   "execution_count": null,
   "id": "e868f1f2",
   "metadata": {},
   "outputs": [],
   "source": [
    "'''NOTE:  The gradient of the Cross-Entropy loss i.e CrossEntropy(activation, target) is \n",
    "equivalent to softmax(activation) - target'''"
   ]
  }
 ],
 "metadata": {
  "kernelspec": {
   "display_name": "machine_learning",
   "language": "python",
   "name": "machine_learning"
  },
  "language_info": {
   "codemirror_mode": {
    "name": "ipython",
    "version": 3
   },
   "file_extension": ".py",
   "mimetype": "text/x-python",
   "name": "python",
   "nbconvert_exporter": "python",
   "pygments_lexer": "ipython3",
   "version": "3.8.5"
  }
 },
 "nbformat": 4,
 "nbformat_minor": 5
}
